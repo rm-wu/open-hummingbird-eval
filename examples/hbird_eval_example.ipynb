{
  "cells": [
    {
      "cell_type": "markdown",
      "metadata": {
        "id": "xutc-cbBj3dH"
      },
      "source": [
        "## Example on how to evaluate a vision encoder with the Hummingbird or Dense NN Retrieval Evaluation"
      ]
    },
    {
      "cell_type": "markdown",
      "metadata": {
        "id": "1H9JpV77Be7x"
      },
      "source": [
        "<a href=\"https://githubtocolab.com/vpariza/open-hummingbird-eval/blob/main/examples/hbird_eval_example.ipynb\">\n",
        "  <img src=\"https://colab.research.google.com/assets/colab-badge.svg\" alt=\"Open In Colab\"/>\n",
        "</a>"
      ]
    },
    {
      "cell_type": "markdown",
      "metadata": {
        "id": "ixaUSRg4kBZo"
      },
      "source": [
        "### 1. Install required Libraries"
      ]
    },
    {
      "cell_type": "code",
      "execution_count": null,
      "metadata": {
        "id": "S2twjreBOgfP"
      },
      "outputs": [],
      "source": [
        "!pip install torchmetrics\n",
        "!pip install scann\n",
        "# Restart your session after installing the packages"
      ]
    },
    {
      "cell_type": "markdown",
      "metadata": {
        "id": "n1DoQXmfkHdr"
      },
      "source": [
        "### 2. Clone our repository"
      ]
    },
    {
      "cell_type": "code",
      "execution_count": null,
      "metadata": {
        "id": "hSNBEsjWYH58"
      },
      "outputs": [],
      "source": [
        "!git clone https://github.com/vpariza/open-hummingbird-eval.git"
      ]
    },
    {
      "cell_type": "code",
      "execution_count": null,
      "metadata": {
        "id": "B9t4oTA4YLAN"
      },
      "outputs": [],
      "source": [
        "# Move to the repository folder\n",
        "%cd open-hummingbird-eval"
      ]
    },
    {
      "cell_type": "markdown",
      "metadata": {
        "id": "gZTwdFNni5qd"
      },
      "source": [
        "### 3. Download your preferred dataset"
      ]
    },
    {
      "cell_type": "code",
      "execution_count": null,
      "metadata": {
        "id": "IYRWameDkPSb"
      },
      "outputs": [],
      "source": [
        "# Used to delete previously downloaded and used\n",
        "# !rm -rf ./VOCSegmentation\n",
        "# !rm voc_data.zip"
      ]
    },
    {
      "cell_type": "markdown",
      "metadata": {
        "id": "0u6ugpZ4i-cx"
      },
      "source": [
        "#### Option 1: Tiny Pascal VOC"
      ]
    },
    {
      "cell_type": "code",
      "execution_count": null,
      "metadata": {
        "id": "DRcN5GxQRXwR"
      },
      "outputs": [],
      "source": [
        "# Download the tiny Pascal VOC - https://1drv.ms/u/c/67fac29a77adbae6/Ed4Bdc53JIBBl1fP-39XylABFvmYKHKiEFnH-OVa8C_ZRg?e=R1VPhl # tiny\n",
        "!wget -O voc_data.zip \"https://my.microsoftpersonalcontent.com/personal/67fac29a77adbae6/_layouts/15/download.aspx?UniqueId=ce7501de-2477-4180-9757-cffb7f57ca50&Translate=false&tempauth=v1e.eyJzaXRlaWQiOiIyZTY1ODA5MS1jYWIzLTQ4ZDUtYWIxYi0zZDc1MjM3MzA5NTYiLCJhcHBpZCI6IjAwMDAwMDAwLTAwMDAtMDAwMC0wMDAwLTAwMDA0ODE3MTBhNCIsImF1ZCI6IjAwMDAwMDAzLTAwMDAtMGZmMS1jZTAwLTAwMDAwMDAwMDAwMC9teS5taWNyb3NvZnRwZXJzb25hbGNvbnRlbnQuY29tQDkxODgwNDBkLTZjNjctNGM1Yi1iMTEyLTM2YTMwNGI2NmRhZCIsImV4cCI6IjE3MzE0Mjk2MTEifQ.kSNjoJeowVjKoMeJ4028jjaSsz9XnKce1rY1kGNcRvEwRGEQQofL7yyzYtxTY3AyQQcUozijhBj_-khBk3Tt6VOCRpPJ58Noa_tUzA2KMNh2SLoaQRVkPY0cEUSfbb3WIdDetyQc1ozxZjPrY5dyeD2rvfDxMVASZpqt4zyPXBYi3x0GDHyjtV1nrz9uDRLvs5KoZKzf4FjsQ7HqRPPo5UFVgZgroaPW7qLTHUNLykuQOEU-0M95GOM6a_yKdJKRefpleE1wISu3mGTvLWxqstBmFoTitHyOq3ZPNN-q1V4A2cQiBcIbUBCOXPG4-YO8pxJa_YAidvgQ7ZVF0Wz_8UbTMvBTMnyPV350mx3awUwoBU9DqNbmI3V2yS3jou3SmSlxcvxT3FquPKv3rUMUurpI4yh2qT_1l8LfOGoKxgo._OvMU_6MJqKmnRwlNaPDDKXrRuIpxqgrZW-lHs3y6hY&ApiVersion=2.0&AVOverride=1\""
      ]
    },
    {
      "cell_type": "markdown",
      "metadata": {
        "id": "KfUOtdnSjDeg"
      },
      "source": [
        "#### Option 2: Mini Pascal VOC"
      ]
    },
    {
      "cell_type": "code",
      "execution_count": null,
      "metadata": {
        "id": "C9V-5ciTRrcH"
      },
      "outputs": [],
      "source": [
        "# Download the mini Pascal VOC - https://1drv.ms/u/c/67fac29a77adbae6/EUOf5pG-1phGkn6jFyzMnE8BD3NMPw1f8dqXNg9Qm6DIhA?e=PxS2we # mini\n",
        "!wget -O voc_data.zip \"https://my.microsoftpersonalcontent.com/personal/67fac29a77adbae6/_layouts/15/download.aspx?UniqueId=91e69f43-d6be-4698-927e-a3172ccc9c4f&Translate=false&tempauth=v1e.eyJzaXRlaWQiOiIyZTY1ODA5MS1jYWIzLTQ4ZDUtYWIxYi0zZDc1MjM3MzA5NTYiLCJhdWQiOiIwMDAwMDAwMy0wMDAwLTBmZjEtY2UwMC0wMDAwMDAwMDAwMDAvbXkubWljcm9zb2Z0cGVyc29uYWxjb250ZW50LmNvbUA5MTg4MDQwZC02YzY3LTRjNWItYjExMi0zNmEzMDRiNjZkYWQiLCJleHAiOiIxNzMxNDI5Nzg4In0.-pMdhGowIfemN-zajDpJm_2VcnwXV4mv8G6LKSb75IALk5oQcA0WaI0jwSScbzi2Zsep0z77e4QCpBkrCw0qgXtsC-xL3k-I433_OpZaOXGCRlIsOuKQF1Zo_hD4WywRhGuzXSeGoecneGsILn1j-0abAWsK4lF-HGI22ZEHh2Vpnv1f5zCqvnRzr1AAahtzl16PbiHH0Iv6QnVCrDalJSgwHALhly7xowSGJJnb6YjmpEUVjtHK3Z_HpzAxc29I_CFsU4j-L_k1Jp0otldkzgPGglMmKGDLz77rVMoHzIAzLIZV7PWj9cMhcJBDRLLQcs2NoETjW-3BgslzOo0jvQdxkwtQdvG8iYyhpSG6MzdHoUyUZtyjDyIVhsz2gfuT_6ReF-fcxjNLSBhFNfYjmGWYBltsWZ_ec7L4BFKpSXkoKHH_S3LKD04h1TUBO8AATgXO1N-QG0D7k-zkgrhBKj2AjPPVv53xFm3Alm8r0tqxstjTEh77NlyviJbQJl5lQc2BBUhkm1ta_SBJunf0fA.u0enlS8dkx2HqtQyUdRllbLG0kb9ub6pMCgTVGs6Vrs&ApiVersion=2.0\""
      ]
    },
    {
      "cell_type": "markdown",
      "metadata": {
        "id": "bjiJpflZjOiR"
      },
      "source": [
        "#### Option 3: Pascal VOC"
      ]
    },
    {
      "cell_type": "code",
      "execution_count": null,
      "metadata": {
        "id": "Zgp3qp4NR75q"
      },
      "outputs": [],
      "source": [
        "# Download the full Pascal VOC - https://1drv.ms/u/c/67fac29a77adbae6/EcilwP2YfSBGj3xvUWCu42EBfoHTmSlHz8Aw_8VgqwWd8g?e=KUFcva # full\n",
        "!wget -O voc_data.zip \"https://my.microsoftpersonalcontent.com/personal/67fac29a77adbae6/_layouts/15/download.aspx?UniqueId=fdc0a5c8-7d98-4620-8f7c-6f5160aee361&Translate=false&tempauth=v1e.eyJzaXRlaWQiOiIyZTY1ODA5MS1jYWIzLTQ4ZDUtYWIxYi0zZDc1MjM3MzA5NTYiLCJhdWQiOiIwMDAwMDAwMy0wMDAwLTBmZjEtY2UwMC0wMDAwMDAwMDAwMDAvbXkubWljcm9zb2Z0cGVyc29uYWxjb250ZW50LmNvbUA5MTg4MDQwZC02YzY3LTRjNWItYjExMi0zNmEzMDRiNjZkYWQiLCJleHAiOiIxNzMxNDI5ODkwIn0.XF05ZSg6uh0fwPnrSQQZtPHiiFwoASiOKBYiCqvmEd5r35ryQ5IQwXLw9eyP7CAAsdIes6ebhxXdNP-lJfMiXnCbvt4hyyHfv-YjMTAq7CuMwvo8JMSS2BVcvriOnot-gBmfbh0aSnA2g2IXIHHYNb3jHPfddqYy0wG6B7lfIkKcyX2I2skyJ3Nd3MXZvF9ciePhlramowiQJMjJNsu8orokzaO5MHe0mK202a8Z1z69UyEs63VQvLa4HP9Eh4r9XE_L98OtFLqUEt-ZZVxaH12kEXrCVZG-RkHjUpvmbicKI5Ia9KW3v4dy4XfnOPTyxzbY3gtxcdoepCjTjD7zRDBjIKdQc6--1FQ9Wg7MwneaJO7sI95KhFonX7EjW67XVqxWOa3r5V2KgWexpPISvrxrekB_tJVtqssod8Bc_TpCA8ADE1yA03W3oaGVChebZkdNV7s0gzrZ5MxeGTcKOJyBmvtc11ysH0db-DAw-7f_Rip36VHUzRgu7vbhr5JKSDpuDdi6pKSkXLPktMRxag.4A9dzhLEJnkjs96PvrorlYxDiGrGQDR_gmEtkzz6syM&ApiVersion=2.0\""
      ]
    },
    {
      "cell_type": "markdown",
      "metadata": {
        "id": "TBoMdNrYjV48"
      },
      "source": [
        "### 4. Unzip Contents of zip Dataset"
      ]
    },
    {
      "cell_type": "code",
      "execution_count": null,
      "metadata": {
        "id": "YW_dHiWRR7Qe"
      },
      "outputs": [],
      "source": [
        "!unzip voc_data.zip"
      ]
    },
    {
      "cell_type": "markdown",
      "metadata": {
        "id": "Jpr8oXkLje11"
      },
      "source": [
        "### 5. Evaluate a preferred model on the downloaded dataset"
      ]
    },
    {
      "cell_type": "code",
      "execution_count": null,
      "metadata": {
        "id": "t_Izg08WLmtB"
      },
      "outputs": [],
      "source": [
        "import torch\n",
        "from src.hbird_eval import hbird_evaluation"
      ]
    },
    {
      "cell_type": "code",
      "execution_count": null,
      "metadata": {
        "id": "JbQdPNThK_RR"
      },
      "outputs": [],
      "source": [
        "# Parameters for the model dino\n",
        "device = 'cuda'\n",
        "input_size = 224\n",
        "batch_size = 64\n",
        "patch_size = 16\n",
        "embed_dim = 384\n",
        "model = torch.hub.load('facebookresearch/dino:main', 'dino_vits16')"
      ]
    },
    {
      "cell_type": "code",
      "execution_count": null,
      "metadata": {
        "id": "BtI_ZhTVO6Rw"
      },
      "outputs": [],
      "source": [
        "fn = lambda model, imgs: (model.get_intermediate_layers(imgs)[0][:, 1:], None)"
      ]
    },
    {
      "cell_type": "code",
      "execution_count": null,
      "metadata": {
        "id": "XzmpXeFQPAPO"
      },
      "outputs": [],
      "source": [
        "hbird_miou = hbird_evaluation(model.to(device),\n",
        "        d_model=embed_dim,        # size of the embedding feature vectors of patches\n",
        "        patch_size=patch_size,\n",
        "        batch_size = batch_size,\n",
        "        input_size=224,\n",
        "        augmentation_epoch=1,     # how many iterations of augmentations to use on top of the training dataset in order to generate the memory\n",
        "        device=device,\n",
        "        return_knn_details=False, # whether to return additional NNs details\n",
        "        n_neighbours=30,         # the number of neighbors to fetch per image patch\n",
        "        nn_params=None,           # Other parameters to be used for the k-NN operator\n",
        "        ftr_extr_fn=fn,           # function that extracts features from a vision encoder on images\n",
        "        dataset_name='voc',       # the name of the dataset to use, currently only Pascal VOC is included.\n",
        "        data_dir='./VOCSegmentation',    # path to the dataset to use for evaluation\n",
        "        memory_size=None)\n",
        "print('Hummingbird Evaluation (mIoU):', hbird_miou)"
      ]
    },
    {
      "cell_type": "code",
      "execution_count": null,
      "metadata": {
        "id": "59xgD07yvwrE"
      },
      "outputs": [],
      "source": []
    }
  ],
  "metadata": {
    "accelerator": "GPU",
    "colab": {
      "collapsed_sections": [
        "KfUOtdnSjDeg"
      ],
      "gpuType": "T4",
      "provenance": []
    },
    "kernelspec": {
      "display_name": "Python 3",
      "name": "python3"
    },
    "language_info": {
      "name": "python"
    }
  },
  "nbformat": 4,
  "nbformat_minor": 0
}